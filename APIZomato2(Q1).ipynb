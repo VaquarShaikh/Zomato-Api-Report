{
 "cells": [
  {
   "cell_type": "code",
   "execution_count": 1,
   "metadata": {},
   "outputs": [],
   "source": [
    "import numpy as np\n",
    "import pandas as pd\n",
    "import csv\n",
    "import matplotlib.pyplot as plt\n",
    "import re\n",
    "import requests\n",
    "import json\n",
    "import seaborn"
   ]
  },
  {
   "cell_type": "markdown",
   "metadata": {},
   "source": [
    "# QUESTION 1 "
   ]
  },
  {
   "cell_type": "markdown",
   "metadata": {},
   "source": [
    "## FIRST SUBPART "
   ]
  },
  {
   "cell_type": "markdown",
   "metadata": {},
   "source": [
    "# NUMBER OF RESTAURANTS IN INDIA VS DELHI NCR"
   ]
  },
  {
   "cell_type": "code",
   "execution_count": 2,
   "metadata": {},
   "outputs": [],
   "source": [
    "r = pd.read_csv('zomato.csv' , encoding = 'ISO-8859-1')"
   ]
  },
  {
   "cell_type": "code",
   "execution_count": 3,
   "metadata": {},
   "outputs": [
    {
     "data": {
      "text/plain": [
       "pandas.core.frame.DataFrame"
      ]
     },
     "execution_count": 3,
     "metadata": {},
     "output_type": "execute_result"
    }
   ],
   "source": [
    "##y axis - no of restaurants\n",
    "##x axis - The places.\n",
    "\n",
    "TotalCities = r[r['Country Code'] == 1]\n",
    "type(TotalCities)"
   ]
  },
  {
   "cell_type": "code",
   "execution_count": 4,
   "metadata": {},
   "outputs": [],
   "source": [
    "li = TotalCities[TotalCities.City == TotalCities.City]\n",
    "# print(li)\n",
    "# x = li.value_counts()\n",
    "# print(x)\n",
    "##The five cities included for calulating Delhi NCR \n",
    "# New Delhi       5473\n",
    "# Gurgaon         1118\n",
    "# Noida           1080\n",
    "# Faridabad        251\n",
    "# Ghaziabad         25\n",
    "# s = li[li['']]"
   ]
  },
  {
   "cell_type": "code",
   "execution_count": 5,
   "metadata": {},
   "outputs": [
    {
     "name": "stdout",
     "output_type": "stream",
     "text": [
      "5473\n"
     ]
    }
   ],
   "source": [
    "newDelhi = li['City'] == 'New Delhi'\n",
    "print(newDelhi.sum())"
   ]
  },
  {
   "cell_type": "code",
   "execution_count": 49,
   "metadata": {},
   "outputs": [
    {
     "data": {
      "image/png": "[encoded data removed]",
      "text/plain": [
       "<Figure size 216x504 with 1 Axes>"
      ]
     },
     "metadata": {
      "needs_background": "light"
     },
     "output_type": "display_data"
    }
   ],
   "source": [
    "gurgaon = li['City'] == 'Gurgaon'\n",
    "Noida = li['City'] == 'Noida'\n",
    "faridabad = li['City'] == 'Faridabad'\n",
    "ghaziabad = li['City'] == 'Ghaziabad'\n",
    "x = ['Delhi NCR' , 'Rest of India']\n",
    "sum = newDelhi.sum() + gurgaon.sum() + faridabad.sum() + ghaziabad.sum() + Noida.sum()\n",
    "width = [0.7, 0.7]\n",
    "space = [1,1]\n",
    "s = int(li.describe()['Country Code']['count']) - sum\n",
    "y = [sum , s]\n",
    "plt.figure(figsize = (3,7))\n",
    "linewidth = [22]\n",
    "plt.bar(x,y,width = width , align = 'center')\n",
    "for index , value in enumerate(y):\n",
    "    plt.text(index  , value  ,'value is ' + str(value))\n",
    "plt.xlabel(\"Places\")\n",
    "plt.ylabel(\"No of restaurants\")\n",
    "plt.grid()\n",
    "plt.show()"
   ]
  },
  {
   "cell_type": "markdown",
   "metadata": {},
   "source": [
    "## FIRST SUBPART ENDS HERE. "
   ]
  },
  {
   "cell_type": "markdown",
   "metadata": {},
   "source": [
    "## SECOND SUBPART "
   ]
  },
  {
   "cell_type": "markdown",
   "metadata": {},
   "source": [
    "# FINDING CUISINES PRESENT IN REST OF INDIA BUT NOT IN DELHI NCR "
   ]
  },
  {
   "cell_type": "code",
   "execution_count": 7,
   "metadata": {},
   "outputs": [
    {
     "data": {
      "text/plain": [
       "pandas.core.frame.DataFrame"
      ]
     },
     "execution_count": 7,
     "metadata": {},
     "output_type": "execute_result"
    }
   ],
   "source": [
    "##Country code of India is 1\n",
    "TotalCities = r[r['Country Code'] == 1]\n",
    "type(TotalCities)"
   ]
  },
  {
   "cell_type": "code",
   "execution_count": null,
   "metadata": {},
   "outputs": [],
   "source": [
    "li = TotalCities[TotalCities.City == TotalCities.City]\n",
    "# print(li['Cuisines'].value_counts())\n",
    "#     print(i.values())\n",
    "print(type(li))\n",
    "\n",
    "RestOfIndia = li[(li.City != 'Gurgaon') & (li.City != 'New Delhi') & (li.City != 'Noida') & (li.City != 'Faridabad') & (li.City != 'Ghaziabad')]\n",
    "print(RestOfIndia)\n"
   ]
  },
  {
   "cell_type": "code",
   "execution_count": 9,
   "metadata": {},
   "outputs": [],
   "source": [
    "newdelhi = li[li.City == 'New Delhi']\n",
    "gurgaon = li[li.City == 'Gurgaon']\n",
    "Noida = li[li.City == 'Noida']\n",
    "faridabad = li[li.City == 'Faridabad']\n",
    "ghaziabad = li[li.City == 'Ghaziabad']"
   ]
  },
  {
   "cell_type": "code",
   "execution_count": 10,
   "metadata": {},
   "outputs": [],
   "source": [
    "DelhiNcr = pd.concat([newdelhi , gurgaon , Noida , faridabad , ghaziabad] , ignore_index = True, verify_integrity = True)"
   ]
  },
  {
   "cell_type": "code",
   "execution_count": null,
   "metadata": {},
   "outputs": [],
   "source": [
    "print(DelhiNcr)"
   ]
  },
  {
   "cell_type": "code",
   "execution_count": null,
   "metadata": {},
   "outputs": [],
   "source": [
    "x = DelhiNcr.Cuisines.unique()\n",
    "print(len(x))\n",
    "print(type(x))\n",
    "print(type(x[1]))\n",
    "for i in x:\n",
    "    print(i)"
   ]
  },
  {
   "cell_type": "code",
   "execution_count": null,
   "metadata": {},
   "outputs": [],
   "source": [
    "CuisineDelhi = []\n",
    "for i in x:\n",
    "    temp = i.strip().split(', ')\n",
    "    for j in temp:\n",
    "        if j not in CuisineDelhi:\n",
    "            CuisineDelhi.append(j)\n",
    "# print(len(l))\n",
    "print(len(CuisineDelhi))\n",
    "for i in CuisineDelhi:\n",
    "    print(i)"
   ]
  },
  {
   "cell_type": "code",
   "execution_count": null,
   "metadata": {},
   "outputs": [],
   "source": [
    "print(len(RestOfIndia))"
   ]
  },
  {
   "cell_type": "code",
   "execution_count": null,
   "metadata": {},
   "outputs": [],
   "source": [
    "tt = RestOfIndia.Cuisines.unique()\n",
    "print(len(tt))"
   ]
  },
  {
   "cell_type": "code",
   "execution_count": null,
   "metadata": {},
   "outputs": [],
   "source": [
    "CuisineRest = []\n",
    "for i in tt:\n",
    "    temp = i.strip().split(', ')\n",
    "    for j in temp:\n",
    "        if j not in CuisineRest:\n",
    "            CuisineRest.append(j)\n",
    "print(len(CuisineRest))\n",
    "for i in CuisineRest:\n",
    "    print(i)"
   ]
  },
  {
   "cell_type": "code",
   "execution_count": null,
   "metadata": {},
   "outputs": [],
   "source": [
    "CuisineCommon = list(set(CuisineDelhi) & set(CuisineRest))\n",
    "# print(CuisineCommon)\n",
    "for i in CuisineCommon:\n",
    "    print(i)\n",
    "print(len(CuisineCommon))"
   ]
  },
  {
   "cell_type": "code",
   "execution_count": 18,
   "metadata": {},
   "outputs": [
    {
     "name": "stdout",
     "output_type": "stream",
     "text": [
      "German\n",
      "Malwani\n",
      "BBQ\n",
      "Cajun\n",
      "4\n"
     ]
    }
   ],
   "source": [
    "ActualRest = []\n",
    "for i in CuisineRest:\n",
    "    if i not in CuisineCommon:\n",
    "        ActualRest.append(i)\n",
    "for i in ActualRest:\n",
    "    print(i)\n",
    "print(len(ActualRest))\n",
    "# print(CuisineCommon)\n",
    "\n"
   ]
  },
  {
   "cell_type": "code",
   "execution_count": 47,
   "metadata": {},
   "outputs": [
    {
     "name": "stdout",
     "output_type": "stream",
     "text": [
      "german absent\n",
      "cajun absent\n",
      "Malwani present\n",
      "BBQ present\n"
     ]
    }
   ],
   "source": [
    "h = {'user-key':'560ea803b6cff3554098333487ab98bb'}\n",
    "data = {'city_id':1 , 'lat' : 28.632832 , 'lon' : 77.219688}\n",
    "basic_api = 'https://developers.zomato.com/api/v2.1'\n",
    "\n",
    "r = requests.get(basic_api + '/cuisines' , headers = h , params = data)\n",
    "# print(r)\n",
    "p = r.json()\n",
    "german = False\n",
    "cajun = False\n",
    "malwan = False\n",
    "bbq = False\n",
    "for i in p['cuisines']:\n",
    "    if i['cuisine']['cuisine_name'] == 'German':\n",
    "        german = True\n",
    "        break\n",
    "for i in p['cuisines']:\n",
    "    if i['cuisine']['cuisine_name'] == 'cajun':\n",
    "        cajun = True\n",
    "        break\n",
    "for i in p['cuisines']:\n",
    "    if i['cuisine']['cuisine_name'] == 'Malwani':\n",
    "        malwan = True\n",
    "        break\n",
    "for i in p['cuisines']:\n",
    "    if i['cuisine']['cuisine_name'] == 'BBQ':\n",
    "        bbq = True\n",
    "        break\n",
    "if german == True:\n",
    "    print(\"german present\")\n",
    "else:\n",
    "    print(\"german absent\")\n",
    "if cajun == True:\n",
    "    print(\"cajun present\")\n",
    "else:\n",
    "    print(\"cajun absent\")\n",
    "if malwan == True:\n",
    "    print(\"Malwani present\")\n",
    "else:\n",
    "    print(\"Malwani absent\")\n",
    "if bbq == True:\n",
    "    print(\"BBQ present\")\n",
    "else:\n",
    "    print(\"BBQ absent\")"
   ]
  },
  {
   "cell_type": "code",
   "execution_count": 19,
   "metadata": {},
   "outputs": [],
   "source": [
    "# The cuisines 'German' and 'cajun' were actually not found in the restaurants of Delhi NCR in \n",
    "# zomato API.However , the cuisines 'Malwani' and 'BBQ' were found to have been served in the \n",
    "# restaurants of Delhi NCR in zomato API."
   ]
  },
  {
   "cell_type": "markdown",
   "metadata": {},
   "source": [
    "## SECOND SUBPART ENDS HERE. "
   ]
  },
  {
   "cell_type": "markdown",
   "metadata": {},
   "source": [
    "## THIRD SUBPART  "
   ]
  },
  {
   "cell_type": "markdown",
   "metadata": {},
   "source": [
    "# TOP 10 CUISINES SERVED BY DELHI NCR AND REST OF INDIA  "
   ]
  },
  {
   "cell_type": "markdown",
   "metadata": {},
   "source": [
    "# TOP 10 DELHI NCR "
   ]
  },
  {
   "cell_type": "code",
   "execution_count": 20,
   "metadata": {},
   "outputs": [
    {
     "name": "stdout",
     "output_type": "stream",
     "text": [
      "['North Indian', 3597]\n",
      "['Chinese', 2448]\n",
      "['Fast Food', 1866]\n",
      "['Mughlai', 933]\n",
      "['Bakery', 697]\n",
      "['South Indian', 569]\n",
      "['Continental', 547]\n",
      "['Desserts', 542]\n",
      "['Street Food', 538]\n",
      "['Italian', 535]\n"
     ]
    }
   ],
   "source": [
    "CuiDelc = {}\n",
    "x = list(DelhiNcr.Cuisines)\n",
    "for i in x:\n",
    "    temp = i.strip().split(', ')\n",
    "    for j in temp:\n",
    "        if j not in CuiDelc:\n",
    "            CuiDelc[j] = 1\n",
    "        else:\n",
    "            CuiDelc[j] += 1\n",
    "# for i in CuiDelc:\n",
    "#     print(i , CuiDelc[i])\n",
    "# print(len(CuiDelc))\n",
    "ld = []\n",
    "count = 0\n",
    "sorted_dictd = {}\n",
    "sorted_keys = sorted(CuiDelc , key = CuiDelc.get , reverse = True)\n",
    "for i in sorted_keys:\n",
    "    sorted_dictd[i] = CuiDelc[i]\n",
    "for i in sorted_dictd:\n",
    "    ld.append([i , sorted_dictd[i]])\n",
    "    count += 1\n",
    "    if count == 10:\n",
    "        break\n",
    "for i in ld:\n",
    "    print(i)\n",
    "\n",
    "\n",
    "# print(sorted_dictd)"
   ]
  },
  {
   "cell_type": "markdown",
   "metadata": {},
   "source": [
    "# TOP 10 REST OF INDIA  "
   ]
  },
  {
   "cell_type": "code",
   "execution_count": 21,
   "metadata": {},
   "outputs": [
    {
     "name": "stdout",
     "output_type": "stream",
     "text": [
      "['North Indian', 349]\n",
      "['Chinese', 242]\n",
      "['Continental', 177]\n",
      "['Italian', 147]\n",
      "['Cafe', 136]\n",
      "['Fast Food', 97]\n",
      "['South Indian', 62]\n",
      "['Mughlai', 59]\n",
      "['Desserts', 55]\n",
      "['Mexican', 50]\n"
     ]
    }
   ],
   "source": [
    "Cuisinerc = {}\n",
    "ls = list(RestOfIndia.Cuisines)\n",
    "for i in ls:\n",
    "    temp = i.strip().split(', ')\n",
    "    for j in temp:\n",
    "        if j not in Cuisinerc:\n",
    "            Cuisinerc[j] = 1\n",
    "        else:\n",
    "            Cuisinerc[j] += 1\n",
    "# for i in Cuisinerc:\n",
    "#     print(i , Cuisinerc[i])\n",
    "# print(len(Cuisinerc))\n",
    "ls = []\n",
    "count = 0\n",
    "sorted_dicts = {}\n",
    "sorted_keys = sorted(Cuisinerc , key = Cuisinerc.get , reverse = True)\n",
    "for i in sorted_keys:\n",
    "    sorted_dicts[i] = Cuisinerc[i]\n",
    "for i in sorted_dicts:\n",
    "    ls.append([i , sorted_dicts[i]])\n",
    "    count += 1 \n",
    "    if count == 10:\n",
    "        break\n",
    "for i in ls:\n",
    "    print(i)\n"
   ]
  },
  {
   "cell_type": "markdown",
   "metadata": {},
   "source": [
    "## THIRD SUBPART ENDS HERE."
   ]
  },
  {
   "cell_type": "markdown",
   "metadata": {},
   "source": [
    "## FOURTH SUB PART"
   ]
  },
  {
   "cell_type": "markdown",
   "metadata": {},
   "source": [
    "## SIMILARITIES: "
   ]
  },
  {
   "cell_type": "code",
   "execution_count": 1,
   "metadata": {},
   "outputs": [],
   "source": [
    "# It has been observed that The cuisines 'North Indian' and 'Chinese' are the top two cuisines \n",
    "# in DelhiNCR and rest of India . With Delhi NCR having 3597 outlets of north indian cuisine\n",
    "# and 2448 outlets serving chinese cuisine . The cuisine 'South Indian' shares a place in top 10\n",
    "# in both the places , just the difference is in the positioning . South Indian cuisine is at the\n",
    "# sixth place in Delhi Ncr with 569 outlets while at the seventh place in rest of India with 62 outlets."
   ]
  },
  {
   "cell_type": "markdown",
   "metadata": {},
   "source": [
    "## DIFFERENCES: "
   ]
  },
  {
   "cell_type": "code",
   "execution_count": 23,
   "metadata": {},
   "outputs": [],
   "source": [
    "# The cuisines of baker in Delhi Ncr which grabs the fifth position is absent in the restaurants\n",
    "# across India.Street food cuisine as well is absent in cuisines not in delhi ncr.\n",
    "# The Italian cuisine in Delhi NCR grabs the 10th position while it is absent in rest of India"
   ]
  },
  {
   "cell_type": "code",
   "execution_count": 56,
   "metadata": {},
   "outputs": [
    {
     "data": {
      "image/png": "[encoded data removed]",
      "text/plain": [
       "<Figure size 432x288 with 1 Axes>"
      ]
     },
     "metadata": {
      "needs_background": "light"
     },
     "output_type": "display_data"
    }
   ],
   "source": [
    "##Rest of India\n",
    "x1 = []\n",
    "y1 = []\n",
    "for i in ls:\n",
    "    x1.append(i[0])\n",
    "    y1.append(i[1])\n",
    "plt.bar(x1 , y1 , hatch = '/',edgecolor = 'black')\n",
    "plt.xlabel('CUISINES ACROSS INDIA (EXCEPT DELHI)')\n",
    "plt.ylabel('NO OF RESTAURANTS SERVING THE GIVEN CUISINES')\n",
    "plt.xticks(rotation = 45)\n",
    "plt.grid()\n",
    "for index , value in enumerate(y1):\n",
    "    plt.text(index  , value  , str(value))\n",
    "plt.show()"
   ]
  },
  {
   "cell_type": "code",
   "execution_count": 53,
   "metadata": {},
   "outputs": [
    {
     "data": {
      "image/png": "[encoded data removed]",
      "text/plain": [
       "<Figure size 432x288 with 1 Axes>"
      ]
     },
     "metadata": {
      "needs_background": "light"
     },
     "output_type": "display_data"
    }
   ],
   "source": [
    "##Delhi ncr\n",
    "x = []\n",
    "y = []\n",
    "for i in ld:\n",
    "    x.append(i[0])\n",
    "    y.append(i[1])\n",
    "plt.bar(x,y , hatch = '/' ,edgecolor = 'black')\n",
    "plt.xlabel('CUISINES ACROSS DELHI NCR')\n",
    "plt.ylabel('NO OF RESTAURANTS SERVING THE GIVEN CUISINE')\n",
    "plt.xticks(rotation = 45)\n",
    "for index , value in enumerate(y):\n",
    "    plt.text(index  , value  , str(value))\n",
    "plt.grid()\n",
    "plt.show()"
   ]
  },
  {
   "cell_type": "markdown",
   "metadata": {},
   "source": [
    "## FOURTH SUBPART ENDS HERE. "
   ]
  }
 ],
 "metadata": {
  "kernelspec": {
   "display_name": "Python 3",
   "language": "python",
   "name": "python3"
  },
  "language_info": {
   "codemirror_mode": {
    "name": "ipython",
    "version": 3
   },
   "file_extension": ".py",
   "mimetype": "text/x-python",
   "name": "python",
   "nbconvert_exporter": "python",
   "pygments_lexer": "ipython3",
   "version": "3.8.3"
  }
 },
 "nbformat": 4,
 "nbformat_minor": 4
}
